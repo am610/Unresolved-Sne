{
 "cells": [
  {
   "cell_type": "code",
   "execution_count": 1,
   "metadata": {},
   "outputs": [],
   "source": [
    "import lmfit\n",
    "import matplotlib.pyplot as plt\n",
    "import pystan\n",
    "import emcee\n",
    "from scipy.optimize import curve_fit\n",
    "from lmfit import Model\n",
    "import matplotlib\n",
    "import numpy as np"
   ]
  },
  {
   "cell_type": "code",
   "execution_count": 58,
   "metadata": {},
   "outputs": [],
   "source": [
    "%matplotlib inline\n",
    "def intrinsic_func(x,mu,dt):\n",
    "    return mu*np.sin(x+dt)\n",
    "\n",
    "x=np.random.rand(200)*6;x=np.sort(x)\n",
    "sigfx=0.2+np.random.rand(len(x))\n"
   ]
  },
  {
   "cell_type": "code",
   "execution_count": 59,
   "metadata": {
    "scrolled": true
   },
   "outputs": [
    {
     "data": {
      "image/png": "[encoded data removed]",
      "text/plain": [
       "<Figure size 432x288 with 1 Axes>"
      ]
     },
     "metadata": {
      "needs_background": "light"
     },
     "output_type": "display_data"
    }
   ],
   "source": [
    "#mu and dt for the images\n",
    "mu_l=[10.0,4.0,3.5]\n",
    "dt_l=[0.0,1.57,0.5]\n",
    "#for simplicity just consider the 1st NI images for now\n",
    "NI=2;  \n",
    "fx=np.zeros((NI,len(x)))\n",
    "for i in np.arange(NI): \n",
    "    fx[i]=intrinsic_func(x,mu_l[i],dt_l[i])\n",
    "    \n",
    "fx_total=np.sum(fx,axis=0)\n",
    "\n",
    "y=np.random.normal(fx_total, sigfx)\n",
    "\n",
    "plt.errorbar(x,y,yerr=sigfx,fmt='r*')\n",
    "plt.plot(x,fx_total,c='k',lw=1.0,ls=\"--\")\n",
    "clr=[\"b\",\"g\",\"c\"]\n",
    "for i in range(NI):\n",
    "    plt.plot(x,fx[i],c=clr[i],lw=1.0,ls=\"--\")\n",
    "\n",
    "plt.show()"
   ]
  },
  {
   "cell_type": "code",
   "execution_count": 60,
   "metadata": {},
   "outputs": [
    {
     "name": "stdout",
     "output_type": "stream",
     "text": [
      "Parameters([('mu1', <Parameter 'mu1', 1.0, bounds=[-inf:inf]>), ('mu2', <Parameter 'mu2', 1.0, bounds=[-inf:inf]>), ('dt1', <Parameter 'dt1', 1.0, bounds=[-inf:inf]>)])\n",
      "[[Variables]]\n",
      "    mu1:  9.15296451 +/- 2998429.11 (32759103.41%) (init = 1)\n",
      "    mu2:  4.02588778 +/- 571020.013 (14183704.16%) (init = 1)\n",
      "    dt1:  1.37918627 +/- 731156.619 (53013623.80%) (init = 1)\n",
      "[[Correlations]] (unreported correlations are < 0.500)\n",
      "    C(mu1, dt1) =  1.000\n",
      "    C(mu1, mu2) = -1.000\n",
      "    C(mu2, dt1) = -1.000\n",
      "<lmfit.minimizer.MinimizerResult object at 0x7f969d24bc50>\n"
     ]
    }
   ],
   "source": [
    "#with lmfit minimization\n",
    "p = lmfit.Parameters()\n",
    "\n",
    "p.add_many(('mu1', 1.0),('mu2', 1.0),('dt1', 1.0),)\n",
    "def residual(p):\n",
    "    v = p.valuesdict()\n",
    "    return (v['mu1']*np.sin(x)+v['mu2']*np.sin(x+v['dt1']) - y)/sigfx\n",
    "\n",
    "print(p)\n",
    "mi = lmfit.minimize(residual, p, method='leastsq', nan_policy='omit');\n",
    "lmfit.printfuncs.report_fit(mi.params, min_correl=0.5)\n",
    "print(mi)\n",
    "#p.add('__lnsigma', value=np.log(0.1), min=np.log(0.001), max=np.log(2))\n",
    "\n",
    "#res = lmfit.minimize(residual, method='emcee', nan_policy='omit', burn=300, steps=1000, thin=7, nwalkers=200,\n",
    "#                     params=mi.params, is_weighted=False)\n",
    "#lmfit.report_fit(res.params)"
   ]
  },
  {
   "cell_type": "code",
   "execution_count": 62,
   "metadata": {
    "scrolled": true
   },
   "outputs": [
    {
     "name": "stderr",
     "output_type": "stream",
     "text": [
      "  2%|▏         | 16/1000 [00:00<00:06, 155.12it/s]"
     ]
    },
    {
     "name": "stdout",
     "output_type": "stream",
     "text": [
      "Parameters([('mu1', <Parameter 'mu1', 8.0, bounds=[1.0:20.0]>), ('mu2', <Parameter 'mu2', 4.0, bounds=[1.0:10.0]>), ('dt1', <Parameter 'dt1', 1.5, bounds=[0.0:2.0]>)])\n",
      "Parameters([('mu1', <Parameter 'mu1', 8.0, bounds=[1.0:20.0]>), ('mu2', <Parameter 'mu2', 4.0, bounds=[1.0:10.0]>), ('dt1', <Parameter 'dt1', 1.5, bounds=[0.0:2.0]>)])\n"
     ]
    },
    {
     "name": "stderr",
     "output_type": "stream",
     "text": [
      "100%|██████████| 1000/1000 [00:04<00:00, 215.30it/s]"
     ]
    },
    {
     "name": "stdout",
     "output_type": "stream",
     "text": [
      "[[Variables]]\n",
      "    mu1:        6.21791962 +/- 3.52448322 (56.68%) (init = 8)\n",
      "    mu2:        5.42331962 +/- 2.02613121 (37.36%) (init = 4)\n",
      "    dt1:        0.81567086 +/- 0.52891827 (64.84%) (init = 1.5)\n",
      "    __lnsigma:  0.01210888 +/- 0.05142119 (424.66%) (init = -2.302585)\n",
      "[[Correlations]] (unreported correlations are < 0.100)\n",
      "    C(mu1, dt1) =  0.971\n",
      "    C(mu1, mu2) = -0.962\n",
      "    C(mu2, dt1) = -0.873\n"
     ]
    },
    {
     "name": "stderr",
     "output_type": "stream",
     "text": [
      "\n"
     ]
    }
   ],
   "source": [
    "#with lmfit emcee\n",
    "%reset_selective -f mi\n",
    "p = lmfit.Parameters()\n",
    "\n",
    "p.add_many(('mu1', 8.0, True, 1.0,20.0),('mu2', 4.0,True, 1.0,10.0))\n",
    "p.add('dt1', value=1.50, min=0.0, max=2.0)\n",
    "print(p)\n",
    "def residual(p):\n",
    "    v = p.valuesdict()\n",
    "    return (v['mu1']*np.sin(x)+v['mu2']*np.sin(x+v['dt1']) - y)/sigfx\n",
    "\n",
    "print(p)\n",
    "#mi = lmfit.minimize(residual, p, method='leastsq', nan_policy='omit');\n",
    "#lmfit.printfuncs.report_fit(mi.params, min_correl=0.5)\n",
    "#print(mi)\n",
    "p.add('__lnsigma', value=np.log(0.1), min=np.log(0.001), max=np.log(2))\n",
    "\n",
    "res = lmfit.minimize(residual, method='emcee', nan_policy='omit', burn=300, steps=1000, thin=7, nwalkers=50,\n",
    "                     params=p, is_weighted=False)\n",
    "lmfit.report_fit(res.params)"
   ]
  },
  {
   "cell_type": "code",
   "execution_count": 63,
   "metadata": {},
   "outputs": [],
   "source": [
    "#using mcmc\n",
    "\n",
    "def log_likelihood(theta, x, y, yerr): \n",
    "    mu0,mu1,dt1 = theta;\n",
    "    mu=np.zeros(2); dt=np.zeros(2); mu[0]=mu0; mu[1]=mu1; dt[0]=0; dt[1]=dt1;\n",
    "    dp=len(x);\n",
    "    fxx=np.zeros((NI,dp))\n",
    "    for i in np.arange(NI):\n",
    "        fxx[i]=mu[i]*np.sin(x+dt[i])#/np.power(x,pr)\n",
    "        \n",
    "    model =np.sum(fxx,axis=0) #mu*np.sin(x)/np.power(x,pr)\n",
    "    sigma2 = yerr**2;#yerr ** 2 + model ** 2 * np.exp(2 * log_f)\n",
    "    return -0.5 * np.sum((y - model) ** 2 /sigma2)\n",
    "\n",
    "def log_prior(theta):\n",
    "    mu0,mu1,dt1 = theta;\n",
    "    mu=np.zeros(2); dt=np.zeros(2); mu[0]=mu0; mu[1]=mu1; dt[0]=0; dt[1]=dt1;\n",
    "    if 1.0 < mu[0] < 10.0 and 1.0 < mu[1] < 10.0 and 0 < dt1 <2:# and 0.0 < pr < 2.0:# and -10.0 < log_f < 1.0:\n",
    "        return 0.0\n",
    "    return -np.inf\n",
    "\n",
    "def log_probability(theta, x, y, yerr):\n",
    "    lp = log_prior(theta)\n",
    "    if not np.isfinite(lp):\n",
    "        return -np.inf\n",
    "    return lp + log_likelihood(theta, x, y, yerr)\n",
    "\n",
    "import emcee\n",
    "\n",
    "p0=np.array([1.0,1.5,0.0]);\n",
    "Npar=len(p0); Nwalker=200\n",
    "pos = p0 + 1e-4 * np.random.randn(Nwalker, Npar)\n",
    "nwalkers, ndim = (Nwalker, Npar)\n",
    "\n",
    "sampler = emcee.EnsembleSampler(nwalkers, ndim, log_probability, args=(x, y, sigfx))\n",
    "xxx1=sampler.run_mcmc(pos,2000);"
   ]
  },
  {
   "cell_type": "code",
   "execution_count": 64,
   "metadata": {},
   "outputs": [
    {
     "name": "stdout",
     "output_type": "stream",
     "text": [
      "[1.6530901  4.05572715 5.0101877  6.94546604 8.54710883 9.06952331\n",
      " 9.85916456]\n",
      "[3.92355671 4.05087255 4.18948612 4.94838816 6.30485468 7.06852208\n",
      " 9.14866727]\n",
      "[0.44603289 0.59321896 0.67729358 0.92529033 1.23655387 1.35808158\n",
      " 1.55375106]\n"
     ]
    }
   ],
   "source": [
    "flat_samples = sampler.get_chain(discard=200, thin=7, flat=True)\n",
    "for i in range(ndim):\n",
    "    mcmc = np.percentile(flat_samples[:, i], [2.5,16,25, 50,75, 84,97.5])\n",
    "    print(mcmc)"
   ]
  },
  {
   "cell_type": "code",
   "execution_count": 65,
   "metadata": {},
   "outputs": [
    {
     "data": {
      "image/png": "[encoded data removed]",
      "text/plain": [
       "<Figure size 547.2x547.2 with 9 Axes>"
      ]
     },
     "metadata": {
      "needs_background": "light"
     },
     "output_type": "display_data"
    }
   ],
   "source": [
    "import corner\n",
    "samples1 = sampler.chain[:, 300:, ].reshape((-1, 3))\n",
    "fig1 = corner.corner(samples1, labels=[r\"$\\mu_1$\",r\"$\\mu_2$\",\"dt2\"],\n",
    "                        color='g', smooth=1,\n",
    "                        levels=(0.68,0.95), plot_density=0, fill_contours=1, plot_datapoints=0, truths=[mu_l[0],mu_l[1], dt_l[1]])"
   ]
  },
  {
   "cell_type": "code",
   "execution_count": 67,
   "metadata": {
    "scrolled": true
   },
   "outputs": [
    {
     "name": "stderr",
     "output_type": "stream",
     "text": [
      "INFO:pystan:COMPILING THE C++ CODE FOR MODEL anon_model_1df7c204825e6d8256ad02c8d2941719 NOW.\n",
      "WARNING:pystan:4 of 2136 iterations ended with a divergence (0.187 %).\n",
      "WARNING:pystan:Try running with adapt_delta larger than 0.8 to remove the divergences.\n"
     ]
    },
    {
     "name": "stdout",
     "output_type": "stream",
     "text": [
      "Inference for Stan model: anon_model_1df7c204825e6d8256ad02c8d2941719.\n",
      "4 chains, each with iter=2000; warmup=400; thin=3; \n",
      "post-warmup draws per chain=534, total post-warmup draws=2136.\n",
      "\n",
      "        mean se_mean     sd   2.5%    25%    50%    75%  97.5%  n_eff   Rhat\n",
      "mu[1]   7.36    0.13   2.77   1.69   5.25   7.69   9.67  11.54    442   1.02\n",
      "mu[2]   5.25    0.07   1.49   3.91   4.09   4.55   6.12   9.13    433   1.02\n",
      "dt[1]   1.12    0.02   0.46   0.45    0.7   1.05    1.5   1.96    474   1.01\n",
      "lp__  -100.0    0.05   1.31 -103.4 -100.6 -99.71 -99.05 -98.47    661    1.0\n",
      "\n",
      "Samples were drawn using NUTS at Mon Nov 18 13:01:20 2019.\n",
      "For each parameter, n_eff is a crude measure of effective sample size,\n",
      "and Rhat is the potential scale reduction factor on split chains (at \n",
      "convergence, Rhat=1).\n"
     ]
    }
   ],
   "source": [
    "model = \"\"\"\n",
    "data {\n",
    "    int<lower=0> N;\n",
    "    int<lower=0> np;\n",
    "    vector[N] x;\n",
    "    vector[N] y;\n",
    "    vector[N] yerror;\n",
    "}\n",
    "parameters {\n",
    "    real<lower=1.0, upper=20> mu [np];\n",
    "    real <lower=-2, upper=2> dt[np-1];\n",
    "    //real sig;\n",
    "    \n",
    "}\n",
    "model {\n",
    "    real dum;\n",
    "    real ddtt;\n",
    "    for(i in 1:N) {\n",
    "        dum=0;\n",
    "        for (j in 1:np){\n",
    "            ddtt=dt[1];\n",
    "            if(j==1){ddtt=0;}\n",
    "            dum=dum+mu[j]*sin(x[i]+ddtt);\n",
    "        }\n",
    "        //y[i] ~ normal((mu*sin(x[i])/pow(x[i],pr)), yerror[i]);\n",
    "        y[i] ~ normal(dum, yerror[i]);\n",
    "    }\n",
    "}\n",
    "\"\"\"\n",
    "# Put our data in a dictionary\n",
    "data = {'N': len(x),'np':NI, 'x': x, 'y': y, 'yerror':sigfx}\n",
    "\n",
    "# Compile the model\n",
    "sm = pystan.StanModel(model_code=model)\n",
    "\n",
    "# Train the model and generate samples\n",
    "fit = sm.sampling(data=data, iter=2000, chains=4, warmup=400, thin=3, seed=101)\n",
    "print(fit)"
   ]
  },
  {
   "cell_type": "code",
   "execution_count": 68,
   "metadata": {},
   "outputs": [
    {
     "name": "stderr",
     "output_type": "stream",
     "text": [
      "INFO:pystan:COMPILING THE C++ CODE FOR MODEL anon_model_de44f6c4eee609768a2d18b784b7123c NOW.\n"
     ]
    },
    {
     "ename": "RuntimeError",
     "evalue": "Exception: []: accessing element out of range. index -2147483647 out of range; expecting index to be between 1 and 9; index position = 1P  (in 'unknown file name' at line 37)\n",
     "output_type": "error",
     "traceback": [
      "\u001b[0;31m---------------------------------------------------------------------------\u001b[0m",
      "\u001b[0;31mRemoteTraceback\u001b[0m                           Traceback (most recent call last)",
      "\u001b[0;31mRemoteTraceback\u001b[0m: \n\"\"\"\nTraceback (most recent call last):\n  File \"/home/satadru/anaconda2/envs/cp36/lib/python3.7/multiprocessing/pool.py\", line 121, in worker\n    result = (True, func(*args, **kwds))\n  File \"/home/satadru/anaconda2/envs/cp36/lib/python3.7/multiprocessing/pool.py\", line 44, in mapstar\n    return list(map(*args))\n  File \"stanfit4anon_model_de44f6c4eee609768a2d18b784b7123c_889518178698430753.pyx\", line 373, in stanfit4anon_model_de44f6c4eee609768a2d18b784b7123c_889518178698430753._call_sampler_star\n  File \"stanfit4anon_model_de44f6c4eee609768a2d18b784b7123c_889518178698430753.pyx\", line 406, in stanfit4anon_model_de44f6c4eee609768a2d18b784b7123c_889518178698430753._call_sampler\nRuntimeError: Exception: []: accessing element out of range. index -2147483647 out of range; expecting index to be between 1 and 9; index position = 1P  (in 'unknown file name' at line 37)\n\n\"\"\"",
      "\nThe above exception was the direct cause of the following exception:\n",
      "\u001b[0;31mRuntimeError\u001b[0m                              Traceback (most recent call last)",
      "\u001b[0;32m<ipython-input-68-05324cc941e4>\u001b[0m in \u001b[0;36m<module>\u001b[0;34m\u001b[0m\n\u001b[1;32m     51\u001b[0m \u001b[0;34m\u001b[0m\u001b[0m\n\u001b[1;32m     52\u001b[0m \u001b[0;31m# Train the model and generate samples\u001b[0m\u001b[0;34m\u001b[0m\u001b[0;34m\u001b[0m\u001b[0;34m\u001b[0m\u001b[0m\n\u001b[0;32m---> 53\u001b[0;31m \u001b[0mfit\u001b[0m \u001b[0;34m=\u001b[0m \u001b[0msm\u001b[0m\u001b[0;34m.\u001b[0m\u001b[0msampling\u001b[0m\u001b[0;34m(\u001b[0m\u001b[0mdata\u001b[0m\u001b[0;34m=\u001b[0m\u001b[0mdata\u001b[0m\u001b[0;34m,\u001b[0m \u001b[0miter\u001b[0m\u001b[0;34m=\u001b[0m\u001b[0;36m2000\u001b[0m\u001b[0;34m,\u001b[0m \u001b[0mchains\u001b[0m\u001b[0;34m=\u001b[0m\u001b[0;36m4\u001b[0m\u001b[0;34m,\u001b[0m \u001b[0mwarmup\u001b[0m\u001b[0;34m=\u001b[0m\u001b[0;36m400\u001b[0m\u001b[0;34m,\u001b[0m \u001b[0mthin\u001b[0m\u001b[0;34m=\u001b[0m\u001b[0;36m3\u001b[0m\u001b[0;34m,\u001b[0m \u001b[0mseed\u001b[0m\u001b[0;34m=\u001b[0m\u001b[0;36m101\u001b[0m\u001b[0;34m)\u001b[0m\u001b[0;34m\u001b[0m\u001b[0;34m\u001b[0m\u001b[0m\n\u001b[0m\u001b[1;32m     54\u001b[0m \u001b[0mprint\u001b[0m\u001b[0;34m(\u001b[0m\u001b[0mfit\u001b[0m\u001b[0;34m)\u001b[0m\u001b[0;34m\u001b[0m\u001b[0;34m\u001b[0m\u001b[0m\n",
      "\u001b[0;32m~/anaconda2/envs/cp36/lib/python3.7/site-packages/pystan/model.py\u001b[0m in \u001b[0;36msampling\u001b[0;34m(self, data, pars, chains, iter, warmup, thin, seed, init, sample_file, diagnostic_file, verbose, algorithm, control, n_jobs, **kwargs)\u001b[0m\n\u001b[1;32m    811\u001b[0m         \u001b[0mcall_sampler_args\u001b[0m \u001b[0;34m=\u001b[0m \u001b[0mizip\u001b[0m\u001b[0;34m(\u001b[0m\u001b[0mitertools\u001b[0m\u001b[0;34m.\u001b[0m\u001b[0mrepeat\u001b[0m\u001b[0;34m(\u001b[0m\u001b[0mdata\u001b[0m\u001b[0;34m)\u001b[0m\u001b[0;34m,\u001b[0m \u001b[0margs_list\u001b[0m\u001b[0;34m,\u001b[0m \u001b[0mitertools\u001b[0m\u001b[0;34m.\u001b[0m\u001b[0mrepeat\u001b[0m\u001b[0;34m(\u001b[0m\u001b[0mpars\u001b[0m\u001b[0;34m)\u001b[0m\u001b[0;34m)\u001b[0m\u001b[0;34m\u001b[0m\u001b[0;34m\u001b[0m\u001b[0m\n\u001b[1;32m    812\u001b[0m         \u001b[0mcall_sampler_star\u001b[0m \u001b[0;34m=\u001b[0m \u001b[0mself\u001b[0m\u001b[0;34m.\u001b[0m\u001b[0mmodule\u001b[0m\u001b[0;34m.\u001b[0m\u001b[0m_call_sampler_star\u001b[0m\u001b[0;34m\u001b[0m\u001b[0;34m\u001b[0m\u001b[0m\n\u001b[0;32m--> 813\u001b[0;31m         \u001b[0mret_and_samples\u001b[0m \u001b[0;34m=\u001b[0m \u001b[0m_map_parallel\u001b[0m\u001b[0;34m(\u001b[0m\u001b[0mcall_sampler_star\u001b[0m\u001b[0;34m,\u001b[0m \u001b[0mcall_sampler_args\u001b[0m\u001b[0;34m,\u001b[0m \u001b[0mn_jobs\u001b[0m\u001b[0;34m)\u001b[0m\u001b[0;34m\u001b[0m\u001b[0;34m\u001b[0m\u001b[0m\n\u001b[0m\u001b[1;32m    814\u001b[0m         \u001b[0msamples\u001b[0m \u001b[0;34m=\u001b[0m \u001b[0;34m[\u001b[0m\u001b[0msmpl\u001b[0m \u001b[0;32mfor\u001b[0m \u001b[0m_\u001b[0m\u001b[0;34m,\u001b[0m \u001b[0msmpl\u001b[0m \u001b[0;32min\u001b[0m \u001b[0mret_and_samples\u001b[0m\u001b[0;34m]\u001b[0m\u001b[0;34m\u001b[0m\u001b[0;34m\u001b[0m\u001b[0m\n\u001b[1;32m    815\u001b[0m \u001b[0;34m\u001b[0m\u001b[0m\n",
      "\u001b[0;32m~/anaconda2/envs/cp36/lib/python3.7/site-packages/pystan/model.py\u001b[0m in \u001b[0;36m_map_parallel\u001b[0;34m(function, args, n_jobs)\u001b[0m\n\u001b[1;32m     83\u001b[0m         \u001b[0;32mtry\u001b[0m\u001b[0;34m:\u001b[0m\u001b[0;34m\u001b[0m\u001b[0;34m\u001b[0m\u001b[0m\n\u001b[1;32m     84\u001b[0m             \u001b[0mpool\u001b[0m \u001b[0;34m=\u001b[0m \u001b[0mmultiprocessing\u001b[0m\u001b[0;34m.\u001b[0m\u001b[0mPool\u001b[0m\u001b[0;34m(\u001b[0m\u001b[0mprocesses\u001b[0m\u001b[0;34m=\u001b[0m\u001b[0mn_jobs\u001b[0m\u001b[0;34m)\u001b[0m\u001b[0;34m\u001b[0m\u001b[0;34m\u001b[0m\u001b[0m\n\u001b[0;32m---> 85\u001b[0;31m             \u001b[0mmap_result\u001b[0m \u001b[0;34m=\u001b[0m \u001b[0mpool\u001b[0m\u001b[0;34m.\u001b[0m\u001b[0mmap\u001b[0m\u001b[0;34m(\u001b[0m\u001b[0mfunction\u001b[0m\u001b[0;34m,\u001b[0m \u001b[0margs\u001b[0m\u001b[0;34m)\u001b[0m\u001b[0;34m\u001b[0m\u001b[0;34m\u001b[0m\u001b[0m\n\u001b[0m\u001b[1;32m     86\u001b[0m         \u001b[0;32mfinally\u001b[0m\u001b[0;34m:\u001b[0m\u001b[0;34m\u001b[0m\u001b[0;34m\u001b[0m\u001b[0m\n\u001b[1;32m     87\u001b[0m             \u001b[0mpool\u001b[0m\u001b[0;34m.\u001b[0m\u001b[0mclose\u001b[0m\u001b[0;34m(\u001b[0m\u001b[0;34m)\u001b[0m\u001b[0;34m\u001b[0m\u001b[0;34m\u001b[0m\u001b[0m\n",
      "\u001b[0;32m~/anaconda2/envs/cp36/lib/python3.7/multiprocessing/pool.py\u001b[0m in \u001b[0;36mmap\u001b[0;34m(self, func, iterable, chunksize)\u001b[0m\n\u001b[1;32m    266\u001b[0m         \u001b[0;32min\u001b[0m \u001b[0ma\u001b[0m \u001b[0mlist\u001b[0m \u001b[0mthat\u001b[0m \u001b[0;32mis\u001b[0m \u001b[0mreturned\u001b[0m\u001b[0;34m.\u001b[0m\u001b[0;34m\u001b[0m\u001b[0;34m\u001b[0m\u001b[0m\n\u001b[1;32m    267\u001b[0m         '''\n\u001b[0;32m--> 268\u001b[0;31m         \u001b[0;32mreturn\u001b[0m \u001b[0mself\u001b[0m\u001b[0;34m.\u001b[0m\u001b[0m_map_async\u001b[0m\u001b[0;34m(\u001b[0m\u001b[0mfunc\u001b[0m\u001b[0;34m,\u001b[0m \u001b[0miterable\u001b[0m\u001b[0;34m,\u001b[0m \u001b[0mmapstar\u001b[0m\u001b[0;34m,\u001b[0m \u001b[0mchunksize\u001b[0m\u001b[0;34m)\u001b[0m\u001b[0;34m.\u001b[0m\u001b[0mget\u001b[0m\u001b[0;34m(\u001b[0m\u001b[0;34m)\u001b[0m\u001b[0;34m\u001b[0m\u001b[0;34m\u001b[0m\u001b[0m\n\u001b[0m\u001b[1;32m    269\u001b[0m \u001b[0;34m\u001b[0m\u001b[0m\n\u001b[1;32m    270\u001b[0m     \u001b[0;32mdef\u001b[0m \u001b[0mstarmap\u001b[0m\u001b[0;34m(\u001b[0m\u001b[0mself\u001b[0m\u001b[0;34m,\u001b[0m \u001b[0mfunc\u001b[0m\u001b[0;34m,\u001b[0m \u001b[0miterable\u001b[0m\u001b[0;34m,\u001b[0m \u001b[0mchunksize\u001b[0m\u001b[0;34m=\u001b[0m\u001b[0;32mNone\u001b[0m\u001b[0;34m)\u001b[0m\u001b[0;34m:\u001b[0m\u001b[0;34m\u001b[0m\u001b[0;34m\u001b[0m\u001b[0m\n",
      "\u001b[0;32m~/anaconda2/envs/cp36/lib/python3.7/multiprocessing/pool.py\u001b[0m in \u001b[0;36mget\u001b[0;34m(self, timeout)\u001b[0m\n\u001b[1;32m    655\u001b[0m             \u001b[0;32mreturn\u001b[0m \u001b[0mself\u001b[0m\u001b[0;34m.\u001b[0m\u001b[0m_value\u001b[0m\u001b[0;34m\u001b[0m\u001b[0;34m\u001b[0m\u001b[0m\n\u001b[1;32m    656\u001b[0m         \u001b[0;32melse\u001b[0m\u001b[0;34m:\u001b[0m\u001b[0;34m\u001b[0m\u001b[0;34m\u001b[0m\u001b[0m\n\u001b[0;32m--> 657\u001b[0;31m             \u001b[0;32mraise\u001b[0m \u001b[0mself\u001b[0m\u001b[0;34m.\u001b[0m\u001b[0m_value\u001b[0m\u001b[0;34m\u001b[0m\u001b[0;34m\u001b[0m\u001b[0m\n\u001b[0m\u001b[1;32m    658\u001b[0m \u001b[0;34m\u001b[0m\u001b[0m\n\u001b[1;32m    659\u001b[0m     \u001b[0;32mdef\u001b[0m \u001b[0m_set\u001b[0m\u001b[0;34m(\u001b[0m\u001b[0mself\u001b[0m\u001b[0;34m,\u001b[0m \u001b[0mi\u001b[0m\u001b[0;34m,\u001b[0m \u001b[0mobj\u001b[0m\u001b[0;34m)\u001b[0m\u001b[0;34m:\u001b[0m\u001b[0;34m\u001b[0m\u001b[0;34m\u001b[0m\u001b[0m\n",
      "\u001b[0;31mRuntimeError\u001b[0m: Exception: []: accessing element out of range. index -2147483647 out of range; expecting index to be between 1 and 9; index position = 1P  (in 'unknown file name' at line 37)\n"
     ]
    }
   ],
   "source": [
    "model = \"\"\"\n",
    "data {\n",
    "    int<lower=0> N;\n",
    "    int<lower=0> ni;\n",
    "    int<lower=5> NP;\n",
    "    vector[N] x;\n",
    "    vector[N] y;\n",
    "    vector[N] yerror;\n",
    "}\n",
    "parameters {\n",
    "    real<lower=1.0, upper=20> mu [ni];\n",
    "    real <lower=1, upper=2> dt[ni-1];\n",
    "    vector <lower=-1, upper=1> [NP] P;\n",
    "    //real sig;\n",
    "    \n",
    "}\n",
    "model {\n",
    "    real dum;\n",
    "    vector[NP] tm;\n",
    "    real td=1.0;\n",
    "    real dum_t;\n",
    "    int ti;\n",
    "    real dtt;\n",
    "    \n",
    "    real mod_intr_f;\n",
    "    \n",
    "    for(i in 1:N) {\n",
    "        dum_t=x[i];\n",
    "        dum=0;\n",
    "        for (j in 1:ni){\n",
    "            dtt=dt[1];\n",
    "            if(j==0){dtt=0;}\n",
    "            dum_t=dum_t+dtt;\n",
    "            while(dum_t<ti*td){\n",
    "                ti=ti+1;\n",
    "            }\n",
    "            mod_intr_f=P[ti+1]+((P[ti+1]-P[ti])/td)*(dum_t-ti*td);\n",
    "            dum+=mu[i]*mod_intr_f;\n",
    "        }\n",
    "        y[i] ~ normal(dum, yerror[i]);\n",
    "        \n",
    "    }\n",
    "}\n",
    "\"\"\"\n",
    "NP=9;\n",
    "# Put our data in a dictionary\n",
    "data = {'N': len(x),'ni':NI,'NP':NP, 'x': x, 'y': y, 'yerror':sigfx}\n",
    "\n",
    "# Compile the model\n",
    "sm = pystan.StanModel(model_code=model)\n",
    "\n",
    "# Train the model and generate samples\n",
    "fit = sm.sampling(data=data, iter=2000, chains=4, warmup=400, thin=3, seed=101)\n",
    "print(fit)"
   ]
  },
  {
   "cell_type": "code",
   "execution_count": null,
   "metadata": {},
   "outputs": [],
   "source": [
    "tt=np.array([1,2,4,6])\n",
    "if all(i < 4)"
   ]
  },
  {
   "cell_type": "code",
   "execution_count": 59,
   "metadata": {},
   "outputs": [
    {
     "data": {
      "text/plain": [
       "array([10. ,  4. ,  3.5,  0. ,  1.5,  0.5])"
      ]
     },
     "execution_count": 59,
     "metadata": {},
     "output_type": "execute_result"
    }
   ],
   "source": [
    "np.concatenate((mu_l,dt_l))"
   ]
  },
  {
   "cell_type": "code",
   "execution_count": null,
   "metadata": {},
   "outputs": [],
   "source": []
  }
 ],
 "metadata": {
  "kernelspec": {
   "display_name": "Python 3",
   "language": "python",
   "name": "python3"
  },
  "language_info": {
   "codemirror_mode": {
    "name": "ipython",
    "version": 3
   },
   "file_extension": ".py",
   "mimetype": "text/x-python",
   "name": "python",
   "nbconvert_exporter": "python",
   "pygments_lexer": "ipython3",
   "version": "3.7.5"
  }
 },
 "nbformat": 4,
 "nbformat_minor": 2
}
