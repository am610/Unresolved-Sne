{
 "cells": [
  {
   "cell_type": "code",
   "execution_count": 1,
   "metadata": {},
   "outputs": [],
   "source": [
    "import lmfit\n",
    "import matplotlib.pyplot as plt\n",
    "import pystan\n",
    "import emcee\n",
    "from scipy.optimize import curve_fit\n",
    "from lmfit import Model\n",
    "import matplotlib\n",
    "import numpy as np"
   ]
  },
  {
   "cell_type": "code",
   "execution_count": 27,
   "metadata": {},
   "outputs": [],
   "source": [
    "%matplotlib inline\n",
    "def intrinsic_func(x,mu,dt):\n",
    "    return mu*np.sin(x+dt)\n",
    "\n",
    "x=np.random.rand(200)*10;x=np.sort(x)\n",
    "sigfx=0.2+np.random.rand(len(x))\n"
   ]
  },
  {
   "cell_type": "code",
   "execution_count": 28,
   "metadata": {
    "scrolled": true
   },
   "outputs": [
    {
     "data": {
      "image/png": "[encoded data removed]",
      "text/plain": [
       "<Figure size 432x288 with 1 Axes>"
      ]
     },
     "metadata": {
      "needs_background": "light"
     },
     "output_type": "display_data"
    }
   ],
   "source": [
    "mu_l=[10.0,4.0,3.5]\n",
    "dt_l=[0.0,1.57,0.5]\n",
    "NI=2; \n",
    "fx=np.zeros((NI,len(x)))\n",
    "for i in np.arange(NI): \n",
    "    fx[i]=intrinsic_func(x,mu_l[i],dt_l[i])\n",
    "    \n",
    "fx_total=np.sum(fx,axis=0)\n",
    "\n",
    "y=np.random.normal(fx_total, sigfx)\n",
    "\n",
    "plt.errorbar(x,y,yerr=sigfx,fmt='r*')\n",
    "plt.plot(x,fx_total,c='k',lw=1.0,ls=\"--\")\n",
    "clr=[\"b\",\"g\",\"c\"]\n",
    "for i in range(NI):\n",
    "    plt.plot(x,fx[i],c=clr[i],lw=1.0,ls=\"--\")\n",
    "\n",
    "plt.show()"
   ]
  },
  {
   "cell_type": "code",
   "execution_count": 33,
   "metadata": {},
   "outputs": [
    {
     "name": "stdout",
     "output_type": "stream",
     "text": [
      "Parameters([('mu1', <Parameter 'mu1', 1.0, bounds=[-inf:inf]>), ('mu2', <Parameter 'mu2', 1.0, bounds=[-inf:inf]>), ('dt1', <Parameter 'dt1', 1.0, bounds=[-inf:inf]>)])\n",
      "[[Variables]]\n",
      "    mu1:  14.0000582 +/-        nan (nan%) (init = 1)\n",
      "    mu2:  5.52928675 +/-        nan (nan%) (init = 1)\n",
      "    dt1:  2.34727169 +/-        nan (nan%) (init = 1)\n",
      "<lmfit.minimizer.MinimizerResult object at 0x7f96a69e7f10>\n"
     ]
    }
   ],
   "source": [
    "#with lmfit minimization\n",
    "p = lmfit.Parameters()\n",
    "\n",
    "p.add_many(('mu1', 1.0),('mu2', 1.0),('dt1', 1.0),)\n",
    "def residual(p):\n",
    "    v = p.valuesdict()\n",
    "    return (v['mu1']*np.sin(x)+v['mu2']*np.sin(x+v['dt1']) - y)/sigfx\n",
    "\n",
    "print(p)\n",
    "mi = lmfit.minimize(residual, p, method='leastsq', nan_policy='omit');\n",
    "lmfit.printfuncs.report_fit(mi.params, min_correl=0.5)\n",
    "print(mi)\n",
    "#p.add('__lnsigma', value=np.log(0.1), min=np.log(0.001), max=np.log(2))\n",
    "\n",
    "#res = lmfit.minimize(residual, method='emcee', nan_policy='omit', burn=300, steps=1000, thin=7, nwalkers=200,\n",
    "#                     params=mi.params, is_weighted=False)\n",
    "#lmfit.report_fit(res.params)"
   ]
  },
  {
   "cell_type": "code",
   "execution_count": 47,
   "metadata": {
    "scrolled": true
   },
   "outputs": [
    {
     "name": "stderr",
     "output_type": "stream",
     "text": [
      "  2%|▎         | 25/1000 [00:00<00:04, 243.68it/s]"
     ]
    },
    {
     "name": "stdout",
     "output_type": "stream",
     "text": [
      "Parameters([('mu1', <Parameter 'mu1', 8.0, bounds=[1.0:20.0]>), ('mu2', <Parameter 'mu2', 4.0, bounds=[1.0:10.0]>), ('dt1', <Parameter 'dt1', 1, bounds=[-1.0:1]>)])\n",
      "Parameters([('mu1', <Parameter 'mu1', 8.0, bounds=[1.0:20.0]>), ('mu2', <Parameter 'mu2', 4.0, bounds=[1.0:10.0]>), ('dt1', <Parameter 'dt1', 1, bounds=[-1.0:1]>)])\n"
     ]
    },
    {
     "name": "stderr",
     "output_type": "stream",
     "text": [
      "100%|██████████| 1000/1000 [00:04<00:00, 230.63it/s]"
     ]
    },
    {
     "name": "stdout",
     "output_type": "stream",
     "text": [
      "[[Variables]]\n",
      "    mu1:        4.79953293 +/- 1.92038292 (40.01%) (init = 8)\n",
      "    mu2:        6.62327638 +/- 1.55126683 (23.42%) (init = 4)\n",
      "    dt1:        0.63729082 +/- 0.16893877 (26.51%) (init = 1)\n",
      "    __lnsigma:  0.07820053 +/- 0.05112464 (65.38%) (init = -2.302585)\n",
      "[[Correlations]] (unreported correlations are < 0.100)\n",
      "    C(mu1, mu2) = -0.998\n",
      "    C(mu1, dt1) =  0.980\n",
      "    C(mu2, dt1) = -0.967\n"
     ]
    },
    {
     "name": "stderr",
     "output_type": "stream",
     "text": [
      "\n"
     ]
    }
   ],
   "source": [
    "#with lmfit emcee\n",
    "%reset_selective -f mi\n",
    "p = lmfit.Parameters()\n",
    "\n",
    "p.add_many(('mu1', 8.0, True, 1.0,20.0),('mu2', 4.0,True, 1.0,10.0))\n",
    "p.add('dt1', value=1.50, min=-1.0, max=1)\n",
    "print(p)\n",
    "def residual(p):\n",
    "    v = p.valuesdict()\n",
    "    return (v['mu1']*np.sin(x)+v['mu2']*np.sin(x+v['dt1']) - y)/sigfx\n",
    "\n",
    "print(p)\n",
    "#mi = lmfit.minimize(residual, p, method='leastsq', nan_policy='omit');\n",
    "#lmfit.printfuncs.report_fit(mi.params, min_correl=0.5)\n",
    "#print(mi)\n",
    "p.add('__lnsigma', value=np.log(0.1), min=np.log(0.001), max=np.log(2))\n",
    "\n",
    "res = lmfit.minimize(residual, method='emcee', nan_policy='omit', burn=300, steps=1000, thin=7, nwalkers=50,\n",
    "                     params=p, is_weighted=False)\n",
    "lmfit.report_fit(res.params)"
   ]
  },
  {
   "cell_type": "code",
   "execution_count": 29,
   "metadata": {},
   "outputs": [],
   "source": [
    "#using mcmc\n",
    "\n",
    "def log_likelihood(theta, x, y, yerr): \n",
    "    mu0,mu1,dt1 = theta;\n",
    "    mu=np.zeros(2); dt=np.zeros(2); mu[0]=mu0; mu[1]=mu1; dt[0]=0; dt[1]=dt1;\n",
    "    dp=len(x);\n",
    "    fxx=np.zeros((NI,dp))\n",
    "    for i in np.arange(NI):\n",
    "        fxx[i]=mu[i]*np.sin(x+dt[i])#/np.power(x,pr)\n",
    "        \n",
    "    model =np.sum(fxx,axis=0) #mu*np.sin(x)/np.power(x,pr)\n",
    "    sigma2 = yerr**2;#yerr ** 2 + model ** 2 * np.exp(2 * log_f)\n",
    "    return -0.5 * np.sum((y - model) ** 2 /sigma2)\n",
    "\n",
    "def log_prior(theta):\n",
    "    mu0,mu1,dt1 = theta;\n",
    "    mu=np.zeros(2); dt=np.zeros(2); mu[0]=mu0; mu[1]=mu1; dt[0]=0; dt[1]=dt1;\n",
    "    if 1.0 < mu[0] < 50.0 and 1.0 < mu[1] < 20.0 and -2 < dt1 <2:# and 0.0 < pr < 2.0:# and -10.0 < log_f < 1.0:\n",
    "        return 0.0\n",
    "    return -np.inf\n",
    "\n",
    "def log_probability(theta, x, y, yerr):\n",
    "    lp = log_prior(theta)\n",
    "    if not np.isfinite(lp):\n",
    "        return -np.inf\n",
    "    return lp + log_likelihood(theta, x, y, yerr)\n",
    "\n",
    "import emcee\n",
    "\n",
    "p0=np.array([1.0,1.5,0.0]);\n",
    "Npar=len(p0); Nwalker=200\n",
    "pos = p0 + 1e-4 * np.random.randn(Nwalker, Npar)\n",
    "nwalkers, ndim = (Nwalker, Npar)\n",
    "\n",
    "sampler = emcee.EnsembleSampler(nwalkers, ndim, log_probability, args=(x, y, sigfx))\n",
    "xxx1=sampler.run_mcmc(pos,2000);"
   ]
  },
  {
   "cell_type": "code",
   "execution_count": 30,
   "metadata": {},
   "outputs": [
    {
     "name": "stdout",
     "output_type": "stream",
     "text": [
      "[ 1.26039948  2.67652667  3.5047237   5.56523888  7.90990118  9.07390786\n",
      " 11.17715452]\n",
      "[3.92876312 4.14535541 4.52699318 6.02818541 7.70858248 8.43260179\n",
      " 9.69811398]\n",
      "[0.4191309  0.48709267 0.53722939 0.7134918  1.05815282 1.31139549\n",
      " 1.83203529]\n"
     ]
    }
   ],
   "source": [
    "flat_samples = sampler.get_chain(discard=200, thin=7, flat=True)\n",
    "for i in range(ndim):\n",
    "    mcmc = np.percentile(flat_samples[:, i], [2.5,16,25, 50,75, 84,97.5])\n",
    "    print(mcmc)"
   ]
  },
  {
   "cell_type": "code",
   "execution_count": 31,
   "metadata": {},
   "outputs": [
    {
     "data": {
      "image/png": "[encoded data removed]",
      "text/plain": [
       "<Figure size 547.2x547.2 with 9 Axes>"
      ]
     },
     "metadata": {
      "needs_background": "light"
     },
     "output_type": "display_data"
    }
   ],
   "source": [
    "import corner\n",
    "samples1 = sampler.chain[:, 300:, ].reshape((-1, 3))\n",
    "fig1 = corner.corner(samples1, labels=[r\"$\\mu_0$\",r\"$\\mu_1$\",\"dt2\"],\n",
    "                        color='g', smooth=1,\n",
    "                        levels=(0.68,0.95), plot_density=0, fill_contours=1, plot_datapoints=0, truths=[mu_l[0],mu_l[1], dt_l[1]])"
   ]
  },
  {
   "cell_type": "code",
   "execution_count": 32,
   "metadata": {
    "scrolled": true
   },
   "outputs": [
    {
     "name": "stderr",
     "output_type": "stream",
     "text": [
      "INFO:pystan:COMPILING THE C++ CODE FOR MODEL anon_model_1df7c204825e6d8256ad02c8d2941719 NOW.\n"
     ]
    },
    {
     "name": "stdout",
     "output_type": "stream",
     "text": [
      "Inference for Stan model: anon_model_1df7c204825e6d8256ad02c8d2941719.\n",
      "4 chains, each with iter=2000; warmup=400; thin=3; \n",
      "post-warmup draws per chain=534, total post-warmup draws=2136.\n",
      "\n",
      "        mean se_mean     sd   2.5%    25%    50%    75%  97.5%  n_eff   Rhat\n",
      "mu[1]   7.25    0.13   3.01   1.45   4.78   7.54   9.83  11.71    543    1.0\n",
      "mu[2]   5.48    0.07   1.69   3.91    4.1   4.71   6.66   9.54    570    1.0\n",
      "dt[1]   1.08    0.02   0.48   0.43   0.64   0.99   1.49   1.95    529    1.0\n",
      "lp__  -113.5    0.04   1.33 -116.8 -114.2 -113.2 -112.6 -112.0    965    1.0\n",
      "\n",
      "Samples were drawn using NUTS at Sun Nov 17 18:58:19 2019.\n",
      "For each parameter, n_eff is a crude measure of effective sample size,\n",
      "and Rhat is the potential scale reduction factor on split chains (at \n",
      "convergence, Rhat=1).\n"
     ]
    }
   ],
   "source": [
    "model = \"\"\"\n",
    "data {\n",
    "    int<lower=0> N;\n",
    "    int<lower=0> np;\n",
    "    vector[N] x;\n",
    "    vector[N] y;\n",
    "    vector[N] yerror;\n",
    "}\n",
    "parameters {\n",
    "    real<lower=1.0, upper=20> mu [np];\n",
    "    real <lower=-2, upper=2> dt[np-1];\n",
    "    //real sig;\n",
    "    \n",
    "}\n",
    "model {\n",
    "    real dum;\n",
    "    real ddtt;\n",
    "    for(i in 1:N) {\n",
    "        dum=0;\n",
    "        for (j in 1:np){\n",
    "            ddtt=dt[1];\n",
    "            if(j==1){ddtt=0;}\n",
    "            dum=dum+mu[j]*sin(x[i]+ddtt);\n",
    "        }\n",
    "        //y[i] ~ normal((mu*sin(x[i])/pow(x[i],pr)), yerror[i]);\n",
    "        y[i] ~ normal(dum, yerror[i]);\n",
    "    }\n",
    "}\n",
    "\"\"\"\n",
    "# Put our data in a dictionary\n",
    "data = {'N': len(x),'np':NI, 'x': x, 'y': y, 'yerror':sigfx}\n",
    "\n",
    "# Compile the model\n",
    "sm = pystan.StanModel(model_code=model)\n",
    "\n",
    "# Train the model and generate samples\n",
    "fit = sm.sampling(data=data, iter=2000, chains=4, warmup=400, thin=3, seed=101)\n",
    "print(fit)"
   ]
  },
  {
   "cell_type": "code",
   "execution_count": 57,
   "metadata": {},
   "outputs": [
    {
     "name": "stderr",
     "output_type": "stream",
     "text": [
      "INFO:pystan:COMPILING THE C++ CODE FOR MODEL anon_model_bc395dc4741f856c7acd84e7ca4b132c NOW.\n"
     ]
    },
    {
     "ename": "RuntimeError",
     "evalue": "Exception: []: accessing element out of range. index -2147483648 out of range; expecting index to be between 1 and 21; index position = 1P  (in 'unknown file name' at line 37)\n",
     "output_type": "error",
     "traceback": [
      "\u001b[0;31m---------------------------------------------------------------------------\u001b[0m",
      "\u001b[0;31mRemoteTraceback\u001b[0m                           Traceback (most recent call last)",
      "\u001b[0;31mRemoteTraceback\u001b[0m: \n\"\"\"\nTraceback (most recent call last):\n  File \"/home/satadru/anaconda2/envs/cp36/lib/python3.7/multiprocessing/pool.py\", line 121, in worker\n    result = (True, func(*args, **kwds))\n  File \"/home/satadru/anaconda2/envs/cp36/lib/python3.7/multiprocessing/pool.py\", line 44, in mapstar\n    return list(map(*args))\n  File \"stanfit4anon_model_bc395dc4741f856c7acd84e7ca4b132c_1561039787238288211.pyx\", line 373, in stanfit4anon_model_bc395dc4741f856c7acd84e7ca4b132c_1561039787238288211._call_sampler_star\n  File \"stanfit4anon_model_bc395dc4741f856c7acd84e7ca4b132c_1561039787238288211.pyx\", line 406, in stanfit4anon_model_bc395dc4741f856c7acd84e7ca4b132c_1561039787238288211._call_sampler\nRuntimeError: Exception: []: accessing element out of range. index -2147483648 out of range; expecting index to be between 1 and 21; index position = 1P  (in 'unknown file name' at line 37)\n\n\"\"\"",
      "\nThe above exception was the direct cause of the following exception:\n",
      "\u001b[0;31mRuntimeError\u001b[0m                              Traceback (most recent call last)",
      "\u001b[0;32m<ipython-input-57-9f03d541aae1>\u001b[0m in \u001b[0;36m<module>\u001b[0;34m\u001b[0m\n\u001b[1;32m     51\u001b[0m \u001b[0;34m\u001b[0m\u001b[0m\n\u001b[1;32m     52\u001b[0m \u001b[0;31m# Train the model and generate samples\u001b[0m\u001b[0;34m\u001b[0m\u001b[0;34m\u001b[0m\u001b[0;34m\u001b[0m\u001b[0m\n\u001b[0;32m---> 53\u001b[0;31m \u001b[0mfit\u001b[0m \u001b[0;34m=\u001b[0m \u001b[0msm\u001b[0m\u001b[0;34m.\u001b[0m\u001b[0msampling\u001b[0m\u001b[0;34m(\u001b[0m\u001b[0mdata\u001b[0m\u001b[0;34m=\u001b[0m\u001b[0mdata\u001b[0m\u001b[0;34m,\u001b[0m \u001b[0miter\u001b[0m\u001b[0;34m=\u001b[0m\u001b[0;36m2000\u001b[0m\u001b[0;34m,\u001b[0m \u001b[0mchains\u001b[0m\u001b[0;34m=\u001b[0m\u001b[0;36m4\u001b[0m\u001b[0;34m,\u001b[0m \u001b[0mwarmup\u001b[0m\u001b[0;34m=\u001b[0m\u001b[0;36m400\u001b[0m\u001b[0;34m,\u001b[0m \u001b[0mthin\u001b[0m\u001b[0;34m=\u001b[0m\u001b[0;36m3\u001b[0m\u001b[0;34m,\u001b[0m \u001b[0mseed\u001b[0m\u001b[0;34m=\u001b[0m\u001b[0;36m101\u001b[0m\u001b[0;34m)\u001b[0m\u001b[0;34m\u001b[0m\u001b[0;34m\u001b[0m\u001b[0m\n\u001b[0m\u001b[1;32m     54\u001b[0m \u001b[0mprint\u001b[0m\u001b[0;34m(\u001b[0m\u001b[0mfit\u001b[0m\u001b[0;34m)\u001b[0m\u001b[0;34m\u001b[0m\u001b[0;34m\u001b[0m\u001b[0m\n",
      "\u001b[0;32m~/anaconda2/envs/cp36/lib/python3.7/site-packages/pystan/model.py\u001b[0m in \u001b[0;36msampling\u001b[0;34m(self, data, pars, chains, iter, warmup, thin, seed, init, sample_file, diagnostic_file, verbose, algorithm, control, n_jobs, **kwargs)\u001b[0m\n\u001b[1;32m    811\u001b[0m         \u001b[0mcall_sampler_args\u001b[0m \u001b[0;34m=\u001b[0m \u001b[0mizip\u001b[0m\u001b[0;34m(\u001b[0m\u001b[0mitertools\u001b[0m\u001b[0;34m.\u001b[0m\u001b[0mrepeat\u001b[0m\u001b[0;34m(\u001b[0m\u001b[0mdata\u001b[0m\u001b[0;34m)\u001b[0m\u001b[0;34m,\u001b[0m \u001b[0margs_list\u001b[0m\u001b[0;34m,\u001b[0m \u001b[0mitertools\u001b[0m\u001b[0;34m.\u001b[0m\u001b[0mrepeat\u001b[0m\u001b[0;34m(\u001b[0m\u001b[0mpars\u001b[0m\u001b[0;34m)\u001b[0m\u001b[0;34m)\u001b[0m\u001b[0;34m\u001b[0m\u001b[0;34m\u001b[0m\u001b[0m\n\u001b[1;32m    812\u001b[0m         \u001b[0mcall_sampler_star\u001b[0m \u001b[0;34m=\u001b[0m \u001b[0mself\u001b[0m\u001b[0;34m.\u001b[0m\u001b[0mmodule\u001b[0m\u001b[0;34m.\u001b[0m\u001b[0m_call_sampler_star\u001b[0m\u001b[0;34m\u001b[0m\u001b[0;34m\u001b[0m\u001b[0m\n\u001b[0;32m--> 813\u001b[0;31m         \u001b[0mret_and_samples\u001b[0m \u001b[0;34m=\u001b[0m \u001b[0m_map_parallel\u001b[0m\u001b[0;34m(\u001b[0m\u001b[0mcall_sampler_star\u001b[0m\u001b[0;34m,\u001b[0m \u001b[0mcall_sampler_args\u001b[0m\u001b[0;34m,\u001b[0m \u001b[0mn_jobs\u001b[0m\u001b[0;34m)\u001b[0m\u001b[0;34m\u001b[0m\u001b[0;34m\u001b[0m\u001b[0m\n\u001b[0m\u001b[1;32m    814\u001b[0m         \u001b[0msamples\u001b[0m \u001b[0;34m=\u001b[0m \u001b[0;34m[\u001b[0m\u001b[0msmpl\u001b[0m \u001b[0;32mfor\u001b[0m \u001b[0m_\u001b[0m\u001b[0;34m,\u001b[0m \u001b[0msmpl\u001b[0m \u001b[0;32min\u001b[0m \u001b[0mret_and_samples\u001b[0m\u001b[0;34m]\u001b[0m\u001b[0;34m\u001b[0m\u001b[0;34m\u001b[0m\u001b[0m\n\u001b[1;32m    815\u001b[0m \u001b[0;34m\u001b[0m\u001b[0m\n",
      "\u001b[0;32m~/anaconda2/envs/cp36/lib/python3.7/site-packages/pystan/model.py\u001b[0m in \u001b[0;36m_map_parallel\u001b[0;34m(function, args, n_jobs)\u001b[0m\n\u001b[1;32m     83\u001b[0m         \u001b[0;32mtry\u001b[0m\u001b[0;34m:\u001b[0m\u001b[0;34m\u001b[0m\u001b[0;34m\u001b[0m\u001b[0m\n\u001b[1;32m     84\u001b[0m             \u001b[0mpool\u001b[0m \u001b[0;34m=\u001b[0m \u001b[0mmultiprocessing\u001b[0m\u001b[0;34m.\u001b[0m\u001b[0mPool\u001b[0m\u001b[0;34m(\u001b[0m\u001b[0mprocesses\u001b[0m\u001b[0;34m=\u001b[0m\u001b[0mn_jobs\u001b[0m\u001b[0;34m)\u001b[0m\u001b[0;34m\u001b[0m\u001b[0;34m\u001b[0m\u001b[0m\n\u001b[0;32m---> 85\u001b[0;31m             \u001b[0mmap_result\u001b[0m \u001b[0;34m=\u001b[0m \u001b[0mpool\u001b[0m\u001b[0;34m.\u001b[0m\u001b[0mmap\u001b[0m\u001b[0;34m(\u001b[0m\u001b[0mfunction\u001b[0m\u001b[0;34m,\u001b[0m \u001b[0margs\u001b[0m\u001b[0;34m)\u001b[0m\u001b[0;34m\u001b[0m\u001b[0;34m\u001b[0m\u001b[0m\n\u001b[0m\u001b[1;32m     86\u001b[0m         \u001b[0;32mfinally\u001b[0m\u001b[0;34m:\u001b[0m\u001b[0;34m\u001b[0m\u001b[0;34m\u001b[0m\u001b[0m\n\u001b[1;32m     87\u001b[0m             \u001b[0mpool\u001b[0m\u001b[0;34m.\u001b[0m\u001b[0mclose\u001b[0m\u001b[0;34m(\u001b[0m\u001b[0;34m)\u001b[0m\u001b[0;34m\u001b[0m\u001b[0;34m\u001b[0m\u001b[0m\n",
      "\u001b[0;32m~/anaconda2/envs/cp36/lib/python3.7/multiprocessing/pool.py\u001b[0m in \u001b[0;36mmap\u001b[0;34m(self, func, iterable, chunksize)\u001b[0m\n\u001b[1;32m    266\u001b[0m         \u001b[0;32min\u001b[0m \u001b[0ma\u001b[0m \u001b[0mlist\u001b[0m \u001b[0mthat\u001b[0m \u001b[0;32mis\u001b[0m \u001b[0mreturned\u001b[0m\u001b[0;34m.\u001b[0m\u001b[0;34m\u001b[0m\u001b[0;34m\u001b[0m\u001b[0m\n\u001b[1;32m    267\u001b[0m         '''\n\u001b[0;32m--> 268\u001b[0;31m         \u001b[0;32mreturn\u001b[0m \u001b[0mself\u001b[0m\u001b[0;34m.\u001b[0m\u001b[0m_map_async\u001b[0m\u001b[0;34m(\u001b[0m\u001b[0mfunc\u001b[0m\u001b[0;34m,\u001b[0m \u001b[0miterable\u001b[0m\u001b[0;34m,\u001b[0m \u001b[0mmapstar\u001b[0m\u001b[0;34m,\u001b[0m \u001b[0mchunksize\u001b[0m\u001b[0;34m)\u001b[0m\u001b[0;34m.\u001b[0m\u001b[0mget\u001b[0m\u001b[0;34m(\u001b[0m\u001b[0;34m)\u001b[0m\u001b[0;34m\u001b[0m\u001b[0;34m\u001b[0m\u001b[0m\n\u001b[0m\u001b[1;32m    269\u001b[0m \u001b[0;34m\u001b[0m\u001b[0m\n\u001b[1;32m    270\u001b[0m     \u001b[0;32mdef\u001b[0m \u001b[0mstarmap\u001b[0m\u001b[0;34m(\u001b[0m\u001b[0mself\u001b[0m\u001b[0;34m,\u001b[0m \u001b[0mfunc\u001b[0m\u001b[0;34m,\u001b[0m \u001b[0miterable\u001b[0m\u001b[0;34m,\u001b[0m \u001b[0mchunksize\u001b[0m\u001b[0;34m=\u001b[0m\u001b[0;32mNone\u001b[0m\u001b[0;34m)\u001b[0m\u001b[0;34m:\u001b[0m\u001b[0;34m\u001b[0m\u001b[0;34m\u001b[0m\u001b[0m\n",
      "\u001b[0;32m~/anaconda2/envs/cp36/lib/python3.7/multiprocessing/pool.py\u001b[0m in \u001b[0;36mget\u001b[0;34m(self, timeout)\u001b[0m\n\u001b[1;32m    655\u001b[0m             \u001b[0;32mreturn\u001b[0m \u001b[0mself\u001b[0m\u001b[0;34m.\u001b[0m\u001b[0m_value\u001b[0m\u001b[0;34m\u001b[0m\u001b[0;34m\u001b[0m\u001b[0m\n\u001b[1;32m    656\u001b[0m         \u001b[0;32melse\u001b[0m\u001b[0;34m:\u001b[0m\u001b[0;34m\u001b[0m\u001b[0;34m\u001b[0m\u001b[0m\n\u001b[0;32m--> 657\u001b[0;31m             \u001b[0;32mraise\u001b[0m \u001b[0mself\u001b[0m\u001b[0;34m.\u001b[0m\u001b[0m_value\u001b[0m\u001b[0;34m\u001b[0m\u001b[0;34m\u001b[0m\u001b[0m\n\u001b[0m\u001b[1;32m    658\u001b[0m \u001b[0;34m\u001b[0m\u001b[0m\n\u001b[1;32m    659\u001b[0m     \u001b[0;32mdef\u001b[0m \u001b[0m_set\u001b[0m\u001b[0;34m(\u001b[0m\u001b[0mself\u001b[0m\u001b[0;34m,\u001b[0m \u001b[0mi\u001b[0m\u001b[0;34m,\u001b[0m \u001b[0mobj\u001b[0m\u001b[0;34m)\u001b[0m\u001b[0;34m:\u001b[0m\u001b[0;34m\u001b[0m\u001b[0;34m\u001b[0m\u001b[0m\n",
      "\u001b[0;31mRuntimeError\u001b[0m: Exception: []: accessing element out of range. index -2147483648 out of range; expecting index to be between 1 and 21; index position = 1P  (in 'unknown file name' at line 37)\n"
     ]
    }
   ],
   "source": [
    "model = \"\"\"\n",
    "data {\n",
    "    int<lower=0> N;\n",
    "    int<lower=0> ni;\n",
    "    int<lower=5> NP;\n",
    "    vector[N] x;\n",
    "    vector[N] y;\n",
    "    vector[N] yerror;\n",
    "}\n",
    "parameters {\n",
    "    real<lower=1.0, upper=20> mu [ni];\n",
    "    real <lower=-2, upper=2> dt[ni-1];\n",
    "    vector <lower=-1, upper=1> [NP] P;\n",
    "    //real sig;\n",
    "    \n",
    "}\n",
    "model {\n",
    "    real dum;\n",
    "    vector[NP] tm;\n",
    "    real td=0.5;\n",
    "    real dum_t;\n",
    "    int ti;\n",
    "    real dtt;\n",
    "    \n",
    "    real mod_intr_f;\n",
    "    \n",
    "    for(i in 1:N) {\n",
    "        dum_t=x[i];\n",
    "        dum=0;\n",
    "        for (j in 1:ni){\n",
    "            dtt=dt[1];\n",
    "            if(j==0){dtt=0;}\n",
    "            dum_t=dum_t+dtt;\n",
    "            while(dum_t<ti*td){\n",
    "                ti=ti+1;\n",
    "            }\n",
    "            mod_intr_f=P[ti]+((P[ti+1]-P[ti])/td)*(dum_t-ti*td);\n",
    "            dum+=mu[i]*mod_intr_f;\n",
    "        }\n",
    "        y[i] ~ normal(dum, yerror[i]);\n",
    "        \n",
    "    }\n",
    "}\n",
    "\"\"\"\n",
    "NP=21;\n",
    "# Put our data in a dictionary\n",
    "data = {'N': len(x),'ni':NI,'NP':NP, 'x': x, 'y': y, 'yerror':sigfx}\n",
    "\n",
    "# Compile the model\n",
    "sm = pystan.StanModel(model_code=model)\n",
    "\n",
    "# Train the model and generate samples\n",
    "fit = sm.sampling(data=data, iter=2000, chains=4, warmup=400, thin=3, seed=101)\n",
    "print(fit)"
   ]
  },
  {
   "cell_type": "code",
   "execution_count": 48,
   "metadata": {},
   "outputs": [
    {
     "data": {
      "text/plain": [
       "Inference for Stan model: anon_model_1df7c204825e6d8256ad02c8d2941719.\n",
       "4 chains, each with iter=2000; warmup=400; thin=3; \n",
       "post-warmup draws per chain=534, total post-warmup draws=2136.\n",
       "\n",
       "        mean se_mean     sd   2.5%    25%    50%    75%  97.5%  n_eff   Rhat\n",
       "mu[1]   7.25    0.13   3.01   1.45   4.78   7.54   9.83  11.71    543    1.0\n",
       "mu[2]   5.48    0.07   1.69   3.91    4.1   4.71   6.66   9.54    570    1.0\n",
       "dt[1]   1.08    0.02   0.48   0.43   0.64   0.99   1.49   1.95    529    1.0\n",
       "lp__  -113.5    0.04   1.33 -116.8 -114.2 -113.2 -112.6 -112.0    965    1.0\n",
       "\n",
       "Samples were drawn using NUTS at Sun Nov 17 18:58:19 2019.\n",
       "For each parameter, n_eff is a crude measure of effective sample size,\n",
       "and Rhat is the potential scale reduction factor on split chains (at \n",
       "convergence, Rhat=1)."
      ]
     },
     "execution_count": 48,
     "metadata": {},
     "output_type": "execute_result"
    }
   ],
   "source": [
    "fit"
   ]
  },
  {
   "cell_type": "code",
   "execution_count": 60,
   "metadata": {},
   "outputs": [
    {
     "name": "stderr",
     "output_type": "stream",
     "text": [
      "INFO:pystan:COMPILING THE C++ CODE FOR MODEL anon_model_4629e6fadf08db8d7cce4d4996d9fc05 NOW.\n",
      "WARNING:pystan:Rhat above 1.1 or below 0.9 indicates that the chains very likely have not mixed\n",
      "WARNING:pystan:3 of 2136 iterations ended with a divergence (0.14 %).\n",
      "WARNING:pystan:Try running with adapt_delta larger than 0.8 to remove the divergences.\n",
      "WARNING:pystan:23 of 2136 iterations saturated the maximum tree depth of 10 (1.08 %)\n",
      "WARNING:pystan:Run again with max_treedepth larger than 10 to avoid saturation\n",
      "WARNING:pystan:Chain 2: E-BFMI = 0.00564\n",
      "WARNING:pystan:Chain 4: E-BFMI = 0.00562\n",
      "WARNING:pystan:E-BFMI below 0.2 indicates you may need to reparameterize your model\n"
     ]
    },
    {
     "name": "stdout",
     "output_type": "stream",
     "text": [
      "Inference for Stan model: anon_model_4629e6fadf08db8d7cce4d4996d9fc05.\n",
      "4 chains, each with iter=2000; warmup=400; thin=3; \n",
      "post-warmup draws per chain=534, total post-warmup draws=2136.\n",
      "\n",
      "       mean se_mean     sd   2.5%    25%    50%    75%  97.5%  n_eff   Rhat\n",
      "mu    96.39   36.49  62.32    2.2  16.93 141.96 142.02 142.11      3   3.41\n",
      "pr     0.11     0.3   0.61  -1.22  -0.59    0.5    0.5    0.5      4   1.93\n",
      "lp__ -1.0e6   7.9e5  1.5e6 -4.2e6 -2.5e6 -57.21 -56.04 -55.56      3   2.77\n",
      "\n",
      "Samples were drawn using NUTS at Thu Nov 14 23:57:26 2019.\n",
      "For each parameter, n_eff is a crude measure of effective sample size,\n",
      "and Rhat is the potential scale reduction factor on split chains (at \n",
      "convergence, Rhat=1).\n"
     ]
    }
   ],
   "source": [
    "model = \"\"\"\n",
    "data {\n",
    "    int<lower=0> N;\n",
    "    int<lower=0> np;\n",
    "    vector[N] x;\n",
    "    vector[N] y;\n",
    "    vector[N] yerror;\n",
    "}\n",
    "parameters {\n",
    "    real mu;\n",
    "    //real dt[np];\n",
    "    real pr;\n",
    "    //real sig;\n",
    "    \n",
    "}\n",
    "model {\n",
    "    real dum;\n",
    "    \n",
    "    for(i in 1:N) {\n",
    "        //dum=0;\n",
    "        //for (j in 1:np){\n",
    "        //      dum=dum+mu[j]*sin(x[i])/pow(x[i],pr);\n",
    "        //}\n",
    "        y[i] ~ normal((mu*sin(x[i])/pow(x[i],pr)), yerror[i]);\n",
    "    }\n",
    "}\n",
    "\"\"\"\n",
    "# Put our data in a dictionary\n",
    "data = {'N': len(x),'np':NI, 'x': x, 'y': y, 'yerror':sigfx}\n",
    "\n",
    "# Compile the model\n",
    "sm = pystan.StanModel(model_code=model)\n",
    "\n",
    "# Train the model and generate samples\n",
    "fit = sm.sampling(data=data, iter=2000, chains=4, warmup=400, thin=3, seed=101)\n",
    "print(fit)"
   ]
  },
  {
   "cell_type": "code",
   "execution_count": null,
   "metadata": {},
   "outputs": [],
   "source": [
    "tt=np.array([1,2,4,6])\n",
    "if all(i < 4)"
   ]
  },
  {
   "cell_type": "code",
   "execution_count": 59,
   "metadata": {},
   "outputs": [
    {
     "data": {
      "text/plain": [
       "array([10. ,  4. ,  3.5,  0. ,  1.5,  0.5])"
      ]
     },
     "execution_count": 59,
     "metadata": {},
     "output_type": "execute_result"
    }
   ],
   "source": [
    "np.concatenate((mu_l,dt_l))"
   ]
  },
  {
   "cell_type": "code",
   "execution_count": null,
   "metadata": {},
   "outputs": [],
   "source": []
  }
 ],
 "metadata": {
  "kernelspec": {
   "display_name": "Python 3",
   "language": "python",
   "name": "python3"
  },
  "language_info": {
   "codemirror_mode": {
    "name": "ipython",
    "version": 3
   },
   "file_extension": ".py",
   "mimetype": "text/x-python",
   "name": "python",
   "nbconvert_exporter": "python",
   "pygments_lexer": "ipython3",
   "version": "3.7.5"
  }
 },
 "nbformat": 4,
 "nbformat_minor": 2
}
